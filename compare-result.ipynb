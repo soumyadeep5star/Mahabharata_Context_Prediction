{
 "cells": [
  {
   "cell_type": "code",
   "execution_count": 1,
   "id": "60b60076",
   "metadata": {
    "_cell_guid": "b1076dfc-b9ad-4769-8c92-a6c4dae69d19",
    "_uuid": "8f2839f25d086af736a60e9eeb907d3b93b6e0e5",
    "execution": {
     "iopub.execute_input": "2023-07-18T16:36:33.139212Z",
     "iopub.status.busy": "2023-07-18T16:36:33.138820Z",
     "iopub.status.idle": "2023-07-18T16:36:33.157613Z",
     "shell.execute_reply": "2023-07-18T16:36:33.155905Z"
    },
    "papermill": {
     "duration": 0.027913,
     "end_time": "2023-07-18T16:36:33.160317",
     "exception": false,
     "start_time": "2023-07-18T16:36:33.132404",
     "status": "completed"
    },
    "tags": []
   },
   "outputs": [
    {
     "name": "stdout",
     "output_type": "stream",
     "text": [
      "/kaggle/input/predictions/y_pred_beng_1.csv\n",
      "/kaggle/input/predictions/y_pred_beng_2.csv\n",
      "/kaggle/input/predictions/y_pred_hindi_1.csv\n"
     ]
    }
   ],
   "source": [
    "# This Python 3 environment comes with many helpful analytics libraries installed\n",
    "# It is defined by the kaggle/python Docker image: https://github.com/kaggle/docker-python\n",
    "# For example, here's several helpful packages to load\n",
    "\n",
    "import numpy as np # linear algebra\n",
    "import pandas as pd # data processing, CSV file I/O (e.g. pd.read_csv)\n",
    "\n",
    "# Input data files are available in the read-only \"../input/\" directory\n",
    "# For example, running this (by clicking run or pressing Shift+Enter) will list all files under the input directory\n",
    "\n",
    "import os\n",
    "for dirname, _, filenames in os.walk('/kaggle/input'):\n",
    "    for filename in filenames:\n",
    "        print(os.path.join(dirname, filename))\n",
    "\n",
    "# You can write up to 20GB to the current directory (/kaggle/working/) that gets preserved as output when you create a version using \"Save & Run All\" \n",
    "# You can also write temporary files to /kaggle/temp/, but they won't be saved outside of the current session"
   ]
  },
  {
   "cell_type": "code",
   "execution_count": 2,
   "id": "4a062900",
   "metadata": {
    "execution": {
     "iopub.execute_input": "2023-07-18T16:36:33.170245Z",
     "iopub.status.busy": "2023-07-18T16:36:33.169866Z",
     "iopub.status.idle": "2023-07-18T16:36:33.216103Z",
     "shell.execute_reply": "2023-07-18T16:36:33.214377Z"
    },
    "papermill": {
     "duration": 0.054464,
     "end_time": "2023-07-18T16:36:33.219044",
     "exception": false,
     "start_time": "2023-07-18T16:36:33.164580",
     "status": "completed"
    },
    "tags": []
   },
   "outputs": [
    {
     "name": "stdout",
     "output_type": "stream",
     "text": [
      "   0\n",
      "0  1\n",
      "1  1\n",
      "2  1\n",
      "3  1\n",
      "4  1\n",
      "   0\n",
      "0  1\n",
      "1  3\n",
      "2  3\n",
      "3  1\n",
      "4  1\n"
     ]
    }
   ],
   "source": [
    "df_1 = pd.read_csv('/kaggle/input/predictions/y_pred_beng_1.csv')\n",
    "\n",
    "print(df_1.head())\n",
    "\n",
    "df_2 = pd.read_csv('/kaggle/input/predictions/y_pred_hindi_1.csv')\n",
    "\n",
    "print(df_2.head())"
   ]
  },
  {
   "cell_type": "code",
   "execution_count": 3,
   "id": "f66a68d3",
   "metadata": {
    "execution": {
     "iopub.execute_input": "2023-07-18T16:36:33.230698Z",
     "iopub.status.busy": "2023-07-18T16:36:33.230235Z",
     "iopub.status.idle": "2023-07-18T16:36:33.241540Z",
     "shell.execute_reply": "2023-07-18T16:36:33.240680Z"
    },
    "papermill": {
     "duration": 0.020249,
     "end_time": "2023-07-18T16:36:33.243935",
     "exception": false,
     "start_time": "2023-07-18T16:36:33.223686",
     "status": "completed"
    },
    "tags": []
   },
   "outputs": [],
   "source": [
    "df_1['0'] = df_1['0'].replace(1, 'sports')\n",
    "df_1['0'] = df_1['0'].replace(6,'opinion')\n",
    "df_1['0'] = df_1['0'].replace(3,'entertainment')\n",
    "df_1['0'] = df_1['0'].replace(7,'education')\n"
   ]
  },
  {
   "cell_type": "code",
   "execution_count": 4,
   "id": "3eecb293",
   "metadata": {
    "execution": {
     "iopub.execute_input": "2023-07-18T16:36:33.253787Z",
     "iopub.status.busy": "2023-07-18T16:36:33.253188Z",
     "iopub.status.idle": "2023-07-18T16:36:33.268554Z",
     "shell.execute_reply": "2023-07-18T16:36:33.267438Z"
    },
    "papermill": {
     "duration": 0.023331,
     "end_time": "2023-07-18T16:36:33.271347",
     "exception": false,
     "start_time": "2023-07-18T16:36:33.248016",
     "status": "completed"
    },
    "tags": []
   },
   "outputs": [
    {
     "data": {
      "text/plain": [
       "sports           69\n",
       "opinion          28\n",
       "entertainment     2\n",
       "education         1\n",
       "Name: 0, dtype: int64"
      ]
     },
     "execution_count": 4,
     "metadata": {},
     "output_type": "execute_result"
    }
   ],
   "source": [
    "df_1['0'].value_counts()"
   ]
  },
  {
   "cell_type": "code",
   "execution_count": 5,
   "id": "38b4777e",
   "metadata": {
    "execution": {
     "iopub.execute_input": "2023-07-18T16:36:33.282826Z",
     "iopub.status.busy": "2023-07-18T16:36:33.281807Z",
     "iopub.status.idle": "2023-07-18T16:36:33.290895Z",
     "shell.execute_reply": "2023-07-18T16:36:33.289874Z"
    },
    "papermill": {
     "duration": 0.017375,
     "end_time": "2023-07-18T16:36:33.293594",
     "exception": false,
     "start_time": "2023-07-18T16:36:33.276219",
     "status": "completed"
    },
    "tags": []
   },
   "outputs": [],
   "source": [
    "df_2['0'] = df_2['0'].replace(1, 'sports')\n",
    "df_2['0'] = df_2['0'].replace(4,'economy')\n",
    "df_2['0'] = df_2['0'].replace(3,'entertainment')\n",
    "df_2['0'] = df_2['0'].replace(7,'education')\n",
    "df_2['0'] = df_2['0'].replace(5,'life-style')"
   ]
  },
  {
   "cell_type": "code",
   "execution_count": 6,
   "id": "13b2e102",
   "metadata": {
    "execution": {
     "iopub.execute_input": "2023-07-18T16:36:33.304116Z",
     "iopub.status.busy": "2023-07-18T16:36:33.303342Z",
     "iopub.status.idle": "2023-07-18T16:36:33.311370Z",
     "shell.execute_reply": "2023-07-18T16:36:33.310430Z"
    },
    "papermill": {
     "duration": 0.016053,
     "end_time": "2023-07-18T16:36:33.313879",
     "exception": false,
     "start_time": "2023-07-18T16:36:33.297826",
     "status": "completed"
    },
    "tags": []
   },
   "outputs": [
    {
     "data": {
      "text/plain": [
       "sports           80\n",
       "entertainment    16\n",
       "economy           2\n",
       "education         1\n",
       "life-style        1\n",
       "Name: 0, dtype: int64"
      ]
     },
     "execution_count": 6,
     "metadata": {},
     "output_type": "execute_result"
    }
   ],
   "source": [
    "df_2['0'].value_counts()"
   ]
  },
  {
   "cell_type": "code",
   "execution_count": 7,
   "id": "6d2caadc",
   "metadata": {
    "execution": {
     "iopub.execute_input": "2023-07-18T16:36:33.325111Z",
     "iopub.status.busy": "2023-07-18T16:36:33.324165Z",
     "iopub.status.idle": "2023-07-18T16:36:33.346095Z",
     "shell.execute_reply": "2023-07-18T16:36:33.344892Z"
    },
    "papermill": {
     "duration": 0.030504,
     "end_time": "2023-07-18T16:36:33.348737",
     "exception": false,
     "start_time": "2023-07-18T16:36:33.318233",
     "status": "completed"
    },
    "tags": []
   },
   "outputs": [
    {
     "data": {
      "text/html": [
       "<div>\n",
       "<style scoped>\n",
       "    .dataframe tbody tr th:only-of-type {\n",
       "        vertical-align: middle;\n",
       "    }\n",
       "\n",
       "    .dataframe tbody tr th {\n",
       "        vertical-align: top;\n",
       "    }\n",
       "\n",
       "    .dataframe thead th {\n",
       "        text-align: right;\n",
       "    }\n",
       "</style>\n",
       "<table border=\"1\" class=\"dataframe\">\n",
       "  <thead>\n",
       "    <tr style=\"text-align: right;\">\n",
       "      <th></th>\n",
       "      <th>0</th>\n",
       "    </tr>\n",
       "  </thead>\n",
       "  <tbody>\n",
       "    <tr>\n",
       "      <th>0</th>\n",
       "      <td>sports</td>\n",
       "    </tr>\n",
       "    <tr>\n",
       "      <th>1</th>\n",
       "      <td>entertainment</td>\n",
       "    </tr>\n",
       "    <tr>\n",
       "      <th>2</th>\n",
       "      <td>entertainment</td>\n",
       "    </tr>\n",
       "    <tr>\n",
       "      <th>3</th>\n",
       "      <td>sports</td>\n",
       "    </tr>\n",
       "    <tr>\n",
       "      <th>4</th>\n",
       "      <td>sports</td>\n",
       "    </tr>\n",
       "  </tbody>\n",
       "</table>\n",
       "</div>"
      ],
      "text/plain": [
       "               0\n",
       "0         sports\n",
       "1  entertainment\n",
       "2  entertainment\n",
       "3         sports\n",
       "4         sports"
      ]
     },
     "execution_count": 7,
     "metadata": {},
     "output_type": "execute_result"
    }
   ],
   "source": [
    "df_2.head()"
   ]
  },
  {
   "cell_type": "code",
   "execution_count": 8,
   "id": "c15f5287",
   "metadata": {
    "execution": {
     "iopub.execute_input": "2023-07-18T16:36:33.360032Z",
     "iopub.status.busy": "2023-07-18T16:36:33.359267Z",
     "iopub.status.idle": "2023-07-18T16:36:33.369583Z",
     "shell.execute_reply": "2023-07-18T16:36:33.367958Z"
    },
    "papermill": {
     "duration": 0.018898,
     "end_time": "2023-07-18T16:36:33.372094",
     "exception": false,
     "start_time": "2023-07-18T16:36:33.353196",
     "status": "completed"
    },
    "tags": []
   },
   "outputs": [
    {
     "name": "stdout",
     "output_type": "stream",
     "text": [
      "sports           61\n",
      "entertainment     2\n",
      "dtype: int64\n",
      "63\n"
     ]
    }
   ],
   "source": [
    "# Assuming your DataFrames are named 'df1' and 'df2', and the columns you want to compare are named 'column1' and 'column2' respectively\n",
    "column1_values = df_1['0'].values\n",
    "column2_values = df_2['0'].values\n",
    "\n",
    "# Compare the two columns element-wise\n",
    "comparison_array = np.equal(column1_values, column2_values)\n",
    "\n",
    "# Get the values from column1 where the comparison is True\n",
    "similar_values = column1_values[comparison_array]\n",
    "\n",
    "# Count the frequency of each unique value\n",
    "value_counts = pd.Series(similar_values).value_counts()\n",
    "print(value_counts)\n",
    "\n",
    "# Count the number of similar rows\n",
    "num_similar_rows = np.count_nonzero(comparison_array)\n",
    "\n",
    "# num_similar_rows contains the exact number of rows that are similar between the two columns\n",
    "print(num_similar_rows)"
   ]
  }
 ],
 "metadata": {
  "kernelspec": {
   "display_name": "Python 3",
   "language": "python",
   "name": "python3"
  },
  "language_info": {
   "codemirror_mode": {
    "name": "ipython",
    "version": 3
   },
   "file_extension": ".py",
   "mimetype": "text/x-python",
   "name": "python",
   "nbconvert_exporter": "python",
   "pygments_lexer": "ipython3",
   "version": "3.10.10"
  },
  "papermill": {
   "default_parameters": {},
   "duration": 15.885622,
   "end_time": "2023-07-18T16:36:34.300418",
   "environment_variables": {},
   "exception": null,
   "input_path": "__notebook__.ipynb",
   "output_path": "__notebook__.ipynb",
   "parameters": {},
   "start_time": "2023-07-18T16:36:18.414796",
   "version": "2.4.0"
  }
 },
 "nbformat": 4,
 "nbformat_minor": 5
}
