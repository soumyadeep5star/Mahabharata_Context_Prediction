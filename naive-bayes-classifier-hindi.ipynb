{
 "cells": [
  {
   "cell_type": "code",
   "execution_count": 1,
   "id": "a964dc1e",
   "metadata": {
    "_cell_guid": "b1076dfc-b9ad-4769-8c92-a6c4dae69d19",
    "_uuid": "8f2839f25d086af736a60e9eeb907d3b93b6e0e5",
    "execution": {
     "iopub.execute_input": "2023-07-18T16:39:12.854681Z",
     "iopub.status.busy": "2023-07-18T16:39:12.854296Z",
     "iopub.status.idle": "2023-07-18T16:39:12.872777Z",
     "shell.execute_reply": "2023-07-18T16:39:12.871971Z"
    },
    "papermill": {
     "duration": 0.032383,
     "end_time": "2023-07-18T16:39:12.875175",
     "exception": false,
     "start_time": "2023-07-18T16:39:12.842792",
     "status": "completed"
    },
    "tags": []
   },
   "outputs": [
    {
     "name": "stdout",
     "output_type": "stream",
     "text": [
      "/kaggle/input/binku1/hindi_train_sample (1).csv\n",
      "/kaggle/input/binku-man-1/hindi_train_sample_final.csv\n"
     ]
    }
   ],
   "source": [
    "# This Python 3 environment comes with many helpful analytics libraries installed\n",
    "# It is defined by the kaggle/python Docker image: https://github.com/kaggle/docker-python\n",
    "# For example, here's several helpful packages to load\n",
    "\n",
    "import numpy as np # linear algebra\n",
    "import pandas as pd # data processing, CSV file I/O (e.g. pd.read_csv)\n",
    "\n",
    "# Input data files are available in the read-only \"../input/\" directory\n",
    "# For example, running this (by clicking run or pressing Shift+Enter) will list all files under the input directory\n",
    "\n",
    "import os\n",
    "for dirname, _, filenames in os.walk('/kaggle/input'):\n",
    "    for filename in filenames:\n",
    "        print(os.path.join(dirname, filename))\n",
    "\n",
    "# You can write up to 20GB to the current directory (/kaggle/working/) that gets preserved as output when you create a version using \"Save & Run All\" \n",
    "# You can also write temporary files to /kaggle/temp/, but they won't be saved outside of the current session"
   ]
  },
  {
   "cell_type": "code",
   "execution_count": 2,
   "id": "70aca570",
   "metadata": {
    "execution": {
     "iopub.execute_input": "2023-07-18T16:39:12.891557Z",
     "iopub.status.busy": "2023-07-18T16:39:12.891126Z",
     "iopub.status.idle": "2023-07-18T16:39:13.311576Z",
     "shell.execute_reply": "2023-07-18T16:39:13.310340Z"
    },
    "papermill": {
     "duration": 0.431965,
     "end_time": "2023-07-18T16:39:13.314711",
     "exception": false,
     "start_time": "2023-07-18T16:39:12.882746",
     "status": "completed"
    },
    "tags": []
   },
   "outputs": [],
   "source": [
    "df = pd.read_csv('/kaggle/input/binku1/hindi_train_sample (1).csv')"
   ]
  },
  {
   "cell_type": "code",
   "execution_count": 3,
   "id": "855dedc3",
   "metadata": {
    "execution": {
     "iopub.execute_input": "2023-07-18T16:39:13.331203Z",
     "iopub.status.busy": "2023-07-18T16:39:13.330772Z",
     "iopub.status.idle": "2023-07-18T16:39:13.368920Z",
     "shell.execute_reply": "2023-07-18T16:39:13.367676Z"
    },
    "papermill": {
     "duration": 0.050468,
     "end_time": "2023-07-18T16:39:13.372284",
     "exception": false,
     "start_time": "2023-07-18T16:39:13.321816",
     "status": "completed"
    },
    "tags": []
   },
   "outputs": [
    {
     "data": {
      "text/html": [
       "<div>\n",
       "<style scoped>\n",
       "    .dataframe tbody tr th:only-of-type {\n",
       "        vertical-align: middle;\n",
       "    }\n",
       "\n",
       "    .dataframe tbody tr th {\n",
       "        vertical-align: top;\n",
       "    }\n",
       "\n",
       "    .dataframe thead th {\n",
       "        text-align: right;\n",
       "    }\n",
       "</style>\n",
       "<table border=\"1\" class=\"dataframe\">\n",
       "  <thead>\n",
       "    <tr style=\"text-align: right;\">\n",
       "      <th></th>\n",
       "      <th>author</th>\n",
       "      <th>category</th>\n",
       "      <th>category_bn</th>\n",
       "      <th>published_date</th>\n",
       "      <th>modification_date</th>\n",
       "      <th>tag</th>\n",
       "      <th>comment_count</th>\n",
       "      <th>title</th>\n",
       "      <th>url</th>\n",
       "      <th>content</th>\n",
       "    </tr>\n",
       "  </thead>\n",
       "  <tbody>\n",
       "    <tr>\n",
       "      <th>0</th>\n",
       "      <td>-1</td>\n",
       "      <td>economy</td>\n",
       "      <td>অর্থনীতি</td>\n",
       "      <td>০৭ সেপ্টেম্বর ২০১৪, ০০:০১</td>\n",
       "      <td>০৭ সেপ্টেম্বর ২০১৪, ০০:০১</td>\n",
       "      <td>['বাণিজ্য']</td>\n",
       "      <td>0</td>\n",
       "      <td>ইবিএলের হজ ও ওমরাহ কার্ড চালু</td>\n",
       "      <td>http://www.prothom-alo.com/economy/article/312067</td>\n",
       "      <td>ईस्टर्न बैंक लिमिटेड (ईबीएल) ने प्रमुख अंतरराष...</td>\n",
       "    </tr>\n",
       "    <tr>\n",
       "      <th>1</th>\n",
       "      <td>খুলনা অফিস</td>\n",
       "      <td>bangladesh</td>\n",
       "      <td>বাংলাদেশ</td>\n",
       "      <td>২৬ জুন ২০১৬, ০১:৩৯</td>\n",
       "      <td>২৬ জুন ২০১৬, ০২:৩৩</td>\n",
       "      <td>['খুলনা', 'খুলনা বিভাগ', 'অপরাধ', 'বিশাল বাংলা']</td>\n",
       "      <td>৯</td>\n",
       "      <td>শিক্ষককে পেটালেন যুবলীগ নেতা</td>\n",
       "      <td>http://www.prothom-alo.com/bangladesh/article/...</td>\n",
       "      <td>खुलना के दकोप उपजिला जुबो लीग के महासचिव और कै...</td>\n",
       "    </tr>\n",
       "    <tr>\n",
       "      <th>2</th>\n",
       "      <td>প্রতিনিধি, কেরানীগঞ্জ</td>\n",
       "      <td>bangladesh</td>\n",
       "      <td>বাংলাদেশ</td>\n",
       "      <td>১১ জুলাই ২০১৮, ১১:৩২</td>\n",
       "      <td>১১ জুলাই ২০১৮, ১১:৩৩</td>\n",
       "      <td>['বন্দুকযুদ্ধ', 'অপরাধ', 'কেরানীগঞ্জ', 'ঢাকা ব...</td>\n",
       "      <td>১</td>\n",
       "      <td>কেরানীগঞ্জে ‘বন্দুকযুদ্ধে’ নিহত ২১ মামলার আসামি</td>\n",
       "      <td>http://www.prothom-alo.com/bangladesh/article/...</td>\n",
       "      <td>ढाका के केरानीगंज मॉडल थाना अंतर्गत देवसूर इला...</td>\n",
       "    </tr>\n",
       "    <tr>\n",
       "      <th>3</th>\n",
       "      <td>ফরিদপুর অফিস</td>\n",
       "      <td>bangladesh</td>\n",
       "      <td>বাংলাদেশ</td>\n",
       "      <td>২৩ ফেব্রুয়ারি ২০১৬, ১৮:০৮</td>\n",
       "      <td>২৩ ফেব্রুয়ারি ২০১৬, ১৮:১১</td>\n",
       "      <td>['অপরাধ']</td>\n",
       "      <td>0</td>\n",
       "      <td>দুদিন পর মধুমতীতে ভেসে উঠল লাশ</td>\n",
       "      <td>http://www.prothom-alo.com/bangladesh/article/...</td>\n",
       "      <td>संघर्ष के एक चरण में सिर में चोट लगने के कारण ...</td>\n",
       "    </tr>\n",
       "    <tr>\n",
       "      <th>4</th>\n",
       "      <td>খুলনা অফিস</td>\n",
       "      <td>bangladesh</td>\n",
       "      <td>বাংলাদেশ</td>\n",
       "      <td>২৮ মার্চ ২০১৭, ০০:৩৯</td>\n",
       "      <td>২৮ মার্চ ২০১৭, ০০:৫৭</td>\n",
       "      <td>['খুলনা', 'খুলনা বিভাগ', 'মহানগর']</td>\n",
       "      <td>0</td>\n",
       "      <td>কর্মশালা</td>\n",
       "      <td>http://www.prothom-alo.com/bangladesh/article/...</td>\n",
       "      <td>खुलना विश्वविद्यालय के पांच विभागों (विषयों) क...</td>\n",
       "    </tr>\n",
       "  </tbody>\n",
       "</table>\n",
       "</div>"
      ],
      "text/plain": [
       "                  author    category category_bn              published_date  \\\n",
       "0                     -1     economy    অর্থনীতি   ০৭ সেপ্টেম্বর ২০১৪, ০০:০১   \n",
       "1             খুলনা অফিস  bangladesh    বাংলাদেশ          ২৬ জুন ২০১৬, ০১:৩৯   \n",
       "2  প্রতিনিধি, কেরানীগঞ্জ  bangladesh    বাংলাদেশ        ১১ জুলাই ২০১৮, ১১:৩২   \n",
       "3           ফরিদপুর অফিস  bangladesh    বাংলাদেশ  ২৩ ফেব্রুয়ারি ২০১৬, ১৮:০৮   \n",
       "4             খুলনা অফিস  bangladesh    বাংলাদেশ        ২৮ মার্চ ২০১৭, ০০:৩৯   \n",
       "\n",
       "            modification_date  \\\n",
       "0   ০৭ সেপ্টেম্বর ২০১৪, ০০:০১   \n",
       "1          ২৬ জুন ২০১৬, ০২:৩৩   \n",
       "2        ১১ জুলাই ২০১৮, ১১:৩৩   \n",
       "3  ২৩ ফেব্রুয়ারি ২০১৬, ১৮:১১   \n",
       "4        ২৮ মার্চ ২০১৭, ০০:৫৭   \n",
       "\n",
       "                                                 tag comment_count  \\\n",
       "0                                        ['বাণিজ্য']             0   \n",
       "1   ['খুলনা', 'খুলনা বিভাগ', 'অপরাধ', 'বিশাল বাংলা']             ৯   \n",
       "2  ['বন্দুকযুদ্ধ', 'অপরাধ', 'কেরানীগঞ্জ', 'ঢাকা ব...             ১   \n",
       "3                                          ['অপরাধ']             0   \n",
       "4                 ['খুলনা', 'খুলনা বিভাগ', 'মহানগর']             0   \n",
       "\n",
       "                                             title  \\\n",
       "0                    ইবিএলের হজ ও ওমরাহ কার্ড চালু   \n",
       "1                     শিক্ষককে পেটালেন যুবলীগ নেতা   \n",
       "2  কেরানীগঞ্জে ‘বন্দুকযুদ্ধে’ নিহত ২১ মামলার আসামি   \n",
       "3                   দুদিন পর মধুমতীতে ভেসে উঠল লাশ   \n",
       "4                                         কর্মশালা   \n",
       "\n",
       "                                                 url  \\\n",
       "0  http://www.prothom-alo.com/economy/article/312067   \n",
       "1  http://www.prothom-alo.com/bangladesh/article/...   \n",
       "2  http://www.prothom-alo.com/bangladesh/article/...   \n",
       "3  http://www.prothom-alo.com/bangladesh/article/...   \n",
       "4  http://www.prothom-alo.com/bangladesh/article/...   \n",
       "\n",
       "                                             content  \n",
       "0  ईस्टर्न बैंक लिमिटेड (ईबीएल) ने प्रमुख अंतरराष...  \n",
       "1  खुलना के दकोप उपजिला जुबो लीग के महासचिव और कै...  \n",
       "2  ढाका के केरानीगंज मॉडल थाना अंतर्गत देवसूर इला...  \n",
       "3  संघर्ष के एक चरण में सिर में चोट लगने के कारण ...  \n",
       "4  खुलना विश्वविद्यालय के पांच विभागों (विषयों) क...  "
      ]
     },
     "execution_count": 3,
     "metadata": {},
     "output_type": "execute_result"
    }
   ],
   "source": [
    "df.head()"
   ]
  },
  {
   "cell_type": "code",
   "execution_count": 4,
   "id": "666d30bd",
   "metadata": {
    "execution": {
     "iopub.execute_input": "2023-07-18T16:39:13.389449Z",
     "iopub.status.busy": "2023-07-18T16:39:13.388985Z",
     "iopub.status.idle": "2023-07-18T16:39:13.400865Z",
     "shell.execute_reply": "2023-07-18T16:39:13.400026Z"
    },
    "papermill": {
     "duration": 0.02292,
     "end_time": "2023-07-18T16:39:13.402899",
     "exception": false,
     "start_time": "2023-07-18T16:39:13.379979",
     "status": "completed"
    },
    "tags": []
   },
   "outputs": [
    {
     "name": "stdout",
     "output_type": "stream",
     "text": [
      "['economy' 'bangladesh' 'international' 'technology' 'entertainment'\n",
      " 'sports' 'life-style' 'education' 'opinion']\n"
     ]
    },
    {
     "data": {
      "text/plain": [
       "(3523, 10)"
      ]
     },
     "execution_count": 4,
     "metadata": {},
     "output_type": "execute_result"
    }
   ],
   "source": [
    "print(df['category'].unique())\n",
    "df.shape"
   ]
  },
  {
   "cell_type": "code",
   "execution_count": 5,
   "id": "4a707026",
   "metadata": {
    "execution": {
     "iopub.execute_input": "2023-07-18T16:39:13.421192Z",
     "iopub.status.busy": "2023-07-18T16:39:13.420042Z",
     "iopub.status.idle": "2023-07-18T16:39:13.435880Z",
     "shell.execute_reply": "2023-07-18T16:39:13.435183Z"
    },
    "papermill": {
     "duration": 0.027516,
     "end_time": "2023-07-18T16:39:13.437986",
     "exception": false,
     "start_time": "2023-07-18T16:39:13.410470",
     "status": "completed"
    },
    "tags": []
   },
   "outputs": [
    {
     "data": {
      "text/plain": [
       "(1127, 10)"
      ]
     },
     "execution_count": 5,
     "metadata": {},
     "output_type": "execute_result"
    }
   ],
   "source": [
    "df = df[(df['category'] != 'bangladesh')] \n",
    "df = df[(df['category'] != 'international')]\n",
    "df.shape"
   ]
  },
  {
   "cell_type": "code",
   "execution_count": 6,
   "id": "f723317a",
   "metadata": {
    "execution": {
     "iopub.execute_input": "2023-07-18T16:39:13.454859Z",
     "iopub.status.busy": "2023-07-18T16:39:13.454456Z",
     "iopub.status.idle": "2023-07-18T16:39:13.468625Z",
     "shell.execute_reply": "2023-07-18T16:39:13.467463Z"
    },
    "papermill": {
     "duration": 0.025628,
     "end_time": "2023-07-18T16:39:13.471188",
     "exception": false,
     "start_time": "2023-07-18T16:39:13.445560",
     "status": "completed"
    },
    "tags": []
   },
   "outputs": [
    {
     "data": {
      "text/plain": [
       "sports           417\n",
       "entertainment    303\n",
       "technology       120\n",
       "economy          117\n",
       "opinion           60\n",
       "life-style        55\n",
       "education         55\n",
       "Name: category, dtype: int64"
      ]
     },
     "execution_count": 6,
     "metadata": {},
     "output_type": "execute_result"
    }
   ],
   "source": [
    "df.category.value_counts()"
   ]
  },
  {
   "cell_type": "code",
   "execution_count": 7,
   "id": "8eed409b",
   "metadata": {
    "execution": {
     "iopub.execute_input": "2023-07-18T16:39:13.488789Z",
     "iopub.status.busy": "2023-07-18T16:39:13.488332Z",
     "iopub.status.idle": "2023-07-18T16:39:13.541011Z",
     "shell.execute_reply": "2023-07-18T16:39:13.539915Z"
    },
    "papermill": {
     "duration": 0.064646,
     "end_time": "2023-07-18T16:39:13.543687",
     "exception": false,
     "start_time": "2023-07-18T16:39:13.479041",
     "status": "completed"
    },
    "tags": []
   },
   "outputs": [
    {
     "name": "stderr",
     "output_type": "stream",
     "text": [
      "/tmp/ipykernel_20/3576015957.py:1: FutureWarning: The default value of regex will change from True to False in a future version.\n",
      "  df.content = df.content.str.replace('\\d+',' ')\n"
     ]
    }
   ],
   "source": [
    "df.content = df.content.str.replace('\\d+',' ')"
   ]
  },
  {
   "cell_type": "code",
   "execution_count": 8,
   "id": "2d4fbb15",
   "metadata": {
    "execution": {
     "iopub.execute_input": "2023-07-18T16:39:13.560788Z",
     "iopub.status.busy": "2023-07-18T16:39:13.560301Z",
     "iopub.status.idle": "2023-07-18T16:39:13.577556Z",
     "shell.execute_reply": "2023-07-18T16:39:13.576448Z"
    },
    "papermill": {
     "duration": 0.028979,
     "end_time": "2023-07-18T16:39:13.580200",
     "exception": false,
     "start_time": "2023-07-18T16:39:13.551221",
     "status": "completed"
    },
    "tags": []
   },
   "outputs": [
    {
     "data": {
      "text/plain": [
       "0     4\n",
       "9     2\n",
       "13    3\n",
       "15    4\n",
       "19    1\n",
       "Name: category, dtype: int64"
      ]
     },
     "execution_count": 8,
     "metadata": {},
     "output_type": "execute_result"
    }
   ],
   "source": [
    "df.category = df.category.replace('sports', 1)\n",
    "df.category = df.category.replace('technology', 2)\n",
    "df.category = df.category.replace('entertainment', 3)\n",
    "df.category = df.category.replace('economy', 4)\n",
    "df.category = df.category.replace('life-style', 5)\n",
    "df.category = df.category.replace('opinion', 6)\n",
    "df.category = df.category.replace('education', 7)\n",
    "\n",
    "df.category.head()"
   ]
  },
  {
   "cell_type": "code",
   "execution_count": 9,
   "id": "3bda20e6",
   "metadata": {
    "execution": {
     "iopub.execute_input": "2023-07-18T16:39:13.599153Z",
     "iopub.status.busy": "2023-07-18T16:39:13.598611Z",
     "iopub.status.idle": "2023-07-18T16:39:13.915191Z",
     "shell.execute_reply": "2023-07-18T16:39:13.914111Z"
    },
    "papermill": {
     "duration": 0.329803,
     "end_time": "2023-07-18T16:39:13.918222",
     "exception": false,
     "start_time": "2023-07-18T16:39:13.588419",
     "status": "completed"
    },
    "tags": []
   },
   "outputs": [
    {
     "data": {
      "text/html": [
       "<div>\n",
       "<style scoped>\n",
       "    .dataframe tbody tr th:only-of-type {\n",
       "        vertical-align: middle;\n",
       "    }\n",
       "\n",
       "    .dataframe tbody tr th {\n",
       "        vertical-align: top;\n",
       "    }\n",
       "\n",
       "    .dataframe thead th {\n",
       "        text-align: right;\n",
       "    }\n",
       "</style>\n",
       "<table border=\"1\" class=\"dataframe\">\n",
       "  <thead>\n",
       "    <tr style=\"text-align: right;\">\n",
       "      <th></th>\n",
       "      <th>author</th>\n",
       "      <th>category</th>\n",
       "      <th>category_bn</th>\n",
       "      <th>published_date</th>\n",
       "      <th>modification_date</th>\n",
       "      <th>tag</th>\n",
       "      <th>comment_count</th>\n",
       "      <th>title</th>\n",
       "      <th>url</th>\n",
       "      <th>content</th>\n",
       "    </tr>\n",
       "  </thead>\n",
       "  <tbody>\n",
       "    <tr>\n",
       "      <th>0</th>\n",
       "      <td>-1</td>\n",
       "      <td>4</td>\n",
       "      <td>অর্থনীতি</td>\n",
       "      <td>০৭ সেপ্টেম্বর ২০১৪, ০০:০১</td>\n",
       "      <td>০৭ সেপ্টেম্বর ২০১৪, ০০:০১</td>\n",
       "      <td>['বাণিজ্য']</td>\n",
       "      <td>0</td>\n",
       "      <td>ইবিএলের হজ ও ওমরাহ কার্ড চালু</td>\n",
       "      <td>http://www.prothom-alo.com/economy/article/312067</td>\n",
       "      <td>ईस्टर्न बैंक लिमिटेड  ईबीएल  ने प्रमुख अंतरराष...</td>\n",
       "    </tr>\n",
       "    <tr>\n",
       "      <th>9</th>\n",
       "      <td>অনলাইন ডেস্ক</td>\n",
       "      <td>2</td>\n",
       "      <td>বিজ্ঞান ও প্রযুক্তি</td>\n",
       "      <td>২০ আগস্ট ২০১৬, ১৩:২৮</td>\n",
       "      <td>২০ আগস্ট ২০১৬, ১৩:৩১</td>\n",
       "      <td>['মোবাইল ফোন', 'খবরাখবর']</td>\n",
       "      <td>১</td>\n",
       "      <td>এ বছরই ফোন নিয়ে ফিরছে নকিয়া</td>\n",
       "      <td>http://www.prothom-alo.com/technology/article/...</td>\n",
       "      <td>नोकिया ब्रांड के स्मार्टफोन और टैबलेट कंप्यूटर...</td>\n",
       "    </tr>\n",
       "    <tr>\n",
       "      <th>13</th>\n",
       "      <td>-1</td>\n",
       "      <td>3</td>\n",
       "      <td>বিনোদন</td>\n",
       "      <td>০৫ নভেম্বর ২০১৩, ০০:০৯</td>\n",
       "      <td>০৫ নভেম্বর ২০১৩, ০০:০৯</td>\n",
       "      <td>['বিনোদন', 'আলাপন']</td>\n",
       "      <td>0</td>\n",
       "      <td>‘চলচ্চিত্রের গানে নিয়মিত কণ্ঠ দিচ্ছি’</td>\n",
       "      <td>http://www.prothom-alo.com/entertainment/artic...</td>\n",
       "      <td>कोनल  संगीतकार चैनल आज शाम मन्ना डे स्मृति कार...</td>\n",
       "    </tr>\n",
       "    <tr>\n",
       "      <th>15</th>\n",
       "      <td>-1</td>\n",
       "      <td>4</td>\n",
       "      <td>অর্থনীতি</td>\n",
       "      <td>০৫ সেপ্টেম্বর ২০১৪, ০০:০১</td>\n",
       "      <td>০৫ সেপ্টেম্বর ২০১৪, ০০:০১</td>\n",
       "      <td>['বাণিজ্য সংবাদ', 'বাণিজ্য']</td>\n",
       "      <td>0</td>\n",
       "      <td>চট্টগ্রামে লোটোর বিক্রয়কেন্দ্র চালু</td>\n",
       "      <td>http://www.prothom-alo.com/economy/article/310261</td>\n",
       "      <td>इतालवी ब्रांड लोट्टो का एक प्रमुख आउटलेट या बि...</td>\n",
       "    </tr>\n",
       "    <tr>\n",
       "      <th>19</th>\n",
       "      <td>চট্টগ্রাম থেকে প্রতিনিধি</td>\n",
       "      <td>1</td>\n",
       "      <td>খেলা</td>\n",
       "      <td>২৯ নভেম্বর ২০১৬, ০১:৫১</td>\n",
       "      <td>২৯ নভেম্বর ২০১৬, ০১:৫৪</td>\n",
       "      <td>['খেলা', 'দেশের ফুটবল']</td>\n",
       "      <td>0</td>\n",
       "      <td>একটি ফাউলের সুফল পেল মোহামেডান</td>\n",
       "      <td>http://www.prothom-alo.com/sports/article/1030235</td>\n",
       "      <td>मैदान पर अच्छे दिन अब मोहम्मडन के सामने कालेबड...</td>\n",
       "    </tr>\n",
       "  </tbody>\n",
       "</table>\n",
       "</div>"
      ],
      "text/plain": [
       "                      author  category          category_bn  \\\n",
       "0                         -1         4             অর্থনীতি   \n",
       "9               অনলাইন ডেস্ক         2  বিজ্ঞান ও প্রযুক্তি   \n",
       "13                        -1         3               বিনোদন   \n",
       "15                        -1         4             অর্থনীতি   \n",
       "19  চট্টগ্রাম থেকে প্রতিনিধি         1                 খেলা   \n",
       "\n",
       "               published_date          modification_date  \\\n",
       "0   ০৭ সেপ্টেম্বর ২০১৪, ০০:০১  ০৭ সেপ্টেম্বর ২০১৪, ০০:০১   \n",
       "9        ২০ আগস্ট ২০১৬, ১৩:২৮       ২০ আগস্ট ২০১৬, ১৩:৩১   \n",
       "13     ০৫ নভেম্বর ২০১৩, ০০:০৯     ০৫ নভেম্বর ২০১৩, ০০:০৯   \n",
       "15  ০৫ সেপ্টেম্বর ২০১৪, ০০:০১  ০৫ সেপ্টেম্বর ২০১৪, ০০:০১   \n",
       "19     ২৯ নভেম্বর ২০১৬, ০১:৫১     ২৯ নভেম্বর ২০১৬, ০১:৫৪   \n",
       "\n",
       "                             tag comment_count  \\\n",
       "0                    ['বাণিজ্য']             0   \n",
       "9      ['মোবাইল ফোন', 'খবরাখবর']             ১   \n",
       "13           ['বিনোদন', 'আলাপন']             0   \n",
       "15  ['বাণিজ্য সংবাদ', 'বাণিজ্য']             0   \n",
       "19       ['খেলা', 'দেশের ফুটবল']             0   \n",
       "\n",
       "                                    title  \\\n",
       "0           ইবিএলের হজ ও ওমরাহ কার্ড চালু   \n",
       "9            এ বছরই ফোন নিয়ে ফিরছে নকিয়া   \n",
       "13  ‘চলচ্চিত্রের গানে নিয়মিত কণ্ঠ দিচ্ছি’   \n",
       "15  চট্টগ্রামে লোটোর বিক্রয়কেন্দ্র চালু   \n",
       "19         একটি ফাউলের সুফল পেল মোহামেডান   \n",
       "\n",
       "                                                  url  \\\n",
       "0   http://www.prothom-alo.com/economy/article/312067   \n",
       "9   http://www.prothom-alo.com/technology/article/...   \n",
       "13  http://www.prothom-alo.com/entertainment/artic...   \n",
       "15  http://www.prothom-alo.com/economy/article/310261   \n",
       "19  http://www.prothom-alo.com/sports/article/1030235   \n",
       "\n",
       "                                              content  \n",
       "0   ईस्टर्न बैंक लिमिटेड  ईबीएल  ने प्रमुख अंतरराष...  \n",
       "9   नोकिया ब्रांड के स्मार्टफोन और टैबलेट कंप्यूटर...  \n",
       "13  कोनल  संगीतकार चैनल आज शाम मन्ना डे स्मृति कार...  \n",
       "15  इतालवी ब्रांड लोट्टो का एक प्रमुख आउटलेट या बि...  \n",
       "19  मैदान पर अच्छे दिन अब मोहम्मडन के सामने कालेबड...  "
      ]
     },
     "execution_count": 9,
     "metadata": {},
     "output_type": "execute_result"
    }
   ],
   "source": [
    "import re\n",
    "whitespace = re.compile(u\"[\\s\\u0020\\u00a0\\u1680\\u180e\\u202f\\u205f\\u3000\\u2000-\\u200a]+\", re.UNICODE)\n",
    "bangla_fullstop = u\"\\u0964\"\n",
    "punctSeq   = u\"['\\\"“”‘’]+|[.?!,…]+|[:;]+\"\n",
    "punc = u\"[(),$%^&*+={}\\[\\]:\\\"|\\'\\~`<>/,¦!?½£¶¼©⅐⅑⅒⅓⅔⅕⅖⅗⅘⅙⅚⅛⅜⅝⅞⅟↉¤¿º;-]+\"\n",
    "\n",
    "def remove_punct(t1):\n",
    "    #t1 =\"সৌতিরুবাচ।   তেষু তত্রোপবিষ্টেষু ব্রাহ্মণেষু মহাত্মসু। রুরুশ্চুক্রোশ গহনং বনং গৎবাঽতিদুঃখিতঃ॥   শোকেনাভিহতঃ সোঽথ বিলপন্করুণং বহু। অব্রবীদ্বচনং শোচন্প্রিয়াং স্মৃৎবা প্রমদ্বরাম্॥   শেতে সা ভুবি তন্বঙ্গী মম শোকবিবর্ধিনী। `প্রাণানপহরন্তীব পূর্ণচন্দ্রনিভাননা॥   যদি পীনায়তশ্রোণী পদ্মপত্রনিভেক্ষণা। মুমূর্ষুরপি মে প্রাণানাদায়াশু গমিষ্যতি॥   পিতৃমাতৃসখীনাং চ লুপ্তপিণ্ডস্য তস্য মে।' বান্ধবানাং চ সর্বেষাং কিং নু দুঃখমতঃপরম্॥   যদি দত্তং তপস্তপ্তং গুরবো বা ময়া যদি। সম্যগারাধিতাস্তেন সংজীবতু মম প্রিয়া॥   যথা চ জন্মপ্রভৃতি যতাত্মাঽহং ধৃতব্রতঃ। প্রমদ্বরা তথাদ্যৈষা সমুত্তিষ্ঠতু ভামিনী॥   [এবং লালপ্যতস্তস্য ভার্যার্থে দুঃখিতস্য চ। দেবদূতস্তদাঽভ্যেত্য বাক্যমাহ রুরুং বনে॥]   `কৃষ্ণে বিষ্ণৌ হৃষীকেশে লোকেশেঽসুরবিদ্বিষি। যদি মে নিশ্চলা ভক্তির্মম জীবতু সা প্রিয়া॥   বিলপ্যমানে তু রুরৌ সর্বে দেবাঃ কৃপান্বিতাঃ। দূতং প্রস্থাপয়ামাসুঃ সংদিশ্যাস্য হিতং বচঃ॥   স দূতস্ৎবরিতোঽভ্যেত্য দেবানাং প্রিয়কৃচ্ছুচিঃ। উবাচ দেববচনং রুরুমাভাষ্য দুঃখিতম্॥   দেবৈঃ সর্বৈরহং ব্রহ্মন্প্রেষিতোঽস্মি তবান্তিকম্। ৎবদ্ধিতং ৎবদ্ধিতৈরুক্তং শৃণু বাক্যং দ্বিজোত্তম॥'   অভিধৎসে হ যদ্বাচা রুরো দুঃখান্ন তন্মৃষা। ন তু মর্ত্যস্য ধর্মাত্মন্নায়ুরস্তি গতায়ুষঃ॥   গতায়ুরেষা কৃপণা গন্ধর্বাপ্সরসোঃ সুতা। তস্মাচ্ছোকে মনস্তাত মা কৃথাস্ৎবং কথংচন॥   উপায়শ্চাত্র বিহিতঃ পূর্বং দেবৈর্মহাত্মভিঃ। তং যদীচ্ছসি কর্তুং ৎবং প্রাপ্স্যসীহ প্রমদ্বরাম্॥   রুরুরুবাচ।   ক উপায়ঃ কৃতো দেবৈর্বূহি তত্ৎবেন খেচর। করিষ্যেঽহং তথা শ্রুৎবা ত্রাতুমর্হতি মাং ভবান্॥   দেবেদূত উবাচ।   আয়ুষোঽর্ধং প্রয়চ্ছ ৎবং কন্যায়ৈ ভৃগুনন্দন। এবমুত্থাস্যতি রুরো তব ভার্যা প্রয়দ্বরা॥   রুরুরুবাচ।   আয়ুষোঽর্ধং প্রয়চ্ছামি কন্যায়ৈ খেচরোত্তম। শৃঙ্গাররূপাভরণা সমুত্তিষ্ঠতু মে প্রিয়া॥   সৌতিরুবাচ।   ততো গন্ধর্বরাজশ্চ দেবদূতশ্চ সত্তমৌ। ধর্মরাজমুপেত্যেদং বচনং প্রত্যভাষতাম্॥   ধর্মরাজায়ুষোঽর্ধেন রুরোর্ভার্যা প্রমদ্বরা। সমুত্তিষ্ঠতু কল্যাণী মৃতৈবং যদি মন্যসে॥   ধর্মরাজ উবাচ।   প্রমদ্বরা রুরোর্ভার্যা দেবদূত যদীচ্ছসি। উত্তিষ্ঠৎবায়ুষোঽর্ধেন রুরোরেব সমন্বিতা॥   সৌতিরুবাচ।   এবমুক্তে ততঃ কন্যা সোদতিষ্ঠৎপ্রমদ্বরা। রুরোস্তস্যায়ুষোঽর্ধেন সুপ্তেব বরবর্ণিনী॥   এতদ্দৃষ্টং ভবিষ্যে হি রুরোরুত্তমতেজসঃ। আয়ুষোঽতিপ্রবৃদ্ধস্য ভার্যার্থেঽর্ধমলুপ্যত॥   তত ইষ্টেঽহনি তয়োঃ পিতরৌ চক্রতুর্মুদা। বিবাহং তৌ চ রেমাতে পরস্পরহিতৈষিণৌ॥   স লব্ধ্বা দুর্লভাং ভার্যাং পদ্মকিঞ্জল্কসুপ্রভাম্। ব্রতং চক্রে বিনাশায় জিহ্মগানাং ধৃতব্রতঃ॥   স দৃষ্ট্বা জিহ্মগান্সর্বাংস্তীব্রকোপসমন্বিতঃ। অভিহন্তি যথাসত্ৎবং গৃহ্য প্রহরণং সদা॥   স কদাচিদ্বনং বিপ্রো রুরুরভ্যাগমন্মহৎ। শয়ানং তত্র চাপশ্যড্ডুণ্ডুভং বয়সান্বিতম্॥   তত উদ্যম্য দম্ডং স কালদণ্ডোপমং তদা। জিঘাংসুঃ কুপিতো বিপ্রস্তমুবাচাথ ডুণ্ডুভঃ॥   নাপরাধ্যামি তে কিংচিদহমদ্য তপোধন। সংরম্ভাচ্চ কিমর্থং মামভিহংসি রুষান্বিতঃ॥ ॥   ইতি শ্রীমন্মহাভারতে আদিপর্বাণি পৌলোমপর্বণি নবমোঽধ্যায়ঃ॥  ॥\"\n",
    "    t1= whitespace.sub(\" \",t1).strip()\n",
    "    t1 = re.sub(punctSeq, \" \", t1)\n",
    "    t1 = re.sub(bangla_fullstop, \" \",t1)\n",
    "    t1 = re.sub(punc, \" \", t1)\n",
    "    return t1\n",
    "\n",
    "df['content']=df['content'].apply(lambda x: remove_punct(x))\n",
    "\n",
    "df.head()"
   ]
  },
  {
   "cell_type": "code",
   "execution_count": 10,
   "id": "88c6996d",
   "metadata": {
    "execution": {
     "iopub.execute_input": "2023-07-18T16:39:13.937446Z",
     "iopub.status.busy": "2023-07-18T16:39:13.936427Z",
     "iopub.status.idle": "2023-07-18T16:39:13.943457Z",
     "shell.execute_reply": "2023-07-18T16:39:13.942543Z"
    },
    "papermill": {
     "duration": 0.019467,
     "end_time": "2023-07-18T16:39:13.946096",
     "exception": false,
     "start_time": "2023-07-18T16:39:13.926629",
     "status": "completed"
    },
    "tags": []
   },
   "outputs": [
    {
     "data": {
      "text/plain": [
       "\"!pip install bnlp_toolkit\\n\\nfrom bnlp import BasicTokenizer\\nbasic_t = BasicTokenizer()\\ndf['content']=df['content'].apply(lambda x: basic_t.tokenize(x))\\n\\ndf.head()\""
      ]
     },
     "execution_count": 10,
     "metadata": {},
     "output_type": "execute_result"
    }
   ],
   "source": [
    "'''!pip install bnlp_toolkit\n",
    "\n",
    "from bnlp import BasicTokenizer\n",
    "basic_t = BasicTokenizer()\n",
    "df['content']=df['content'].apply(lambda x: basic_t.tokenize(x))\n",
    "\n",
    "df.head()'''"
   ]
  },
  {
   "cell_type": "code",
   "execution_count": 11,
   "id": "4f2e585e",
   "metadata": {
    "execution": {
     "iopub.execute_input": "2023-07-18T16:39:13.964586Z",
     "iopub.status.busy": "2023-07-18T16:39:13.963966Z",
     "iopub.status.idle": "2023-07-18T16:39:31.757370Z",
     "shell.execute_reply": "2023-07-18T16:39:31.755958Z"
    },
    "papermill": {
     "duration": 17.805809,
     "end_time": "2023-07-18T16:39:31.760242",
     "exception": false,
     "start_time": "2023-07-18T16:39:13.954433",
     "status": "completed"
    },
    "tags": []
   },
   "outputs": [
    {
     "name": "stdout",
     "output_type": "stream",
     "text": [
      "Requirement already satisfied: nltk in /opt/conda/lib/python3.10/site-packages (3.2.4)\r\n",
      "Requirement already satisfied: six in /opt/conda/lib/python3.10/site-packages (from nltk) (1.16.0)\r\n",
      "\u001b[33mWARNING: Running pip as the 'root' user can result in broken permissions and conflicting behaviour with the system package manager. It is recommended to use a virtual environment instead: https://pip.pypa.io/warnings/venv\u001b[0m\u001b[33m\r\n",
      "\u001b[0m[nltk_data] Downloading package punkt to /usr/share/nltk_data...\n",
      "[nltk_data]   Package punkt is already up-to-date!\n",
      "[nltk_data] Downloading package indian to /usr/share/nltk_data...\n",
      "[nltk_data]   Package indian is already up-to-date!\n"
     ]
    }
   ],
   "source": [
    "!pip install nltk\n",
    "\n",
    "import nltk\n",
    "\n",
    "# Download the necessary resources for tokenizing Hindi text\n",
    "nltk.download('punkt')\n",
    "nltk.download('indian')\n",
    "\n",
    "# Tokenize Hindi text\n",
    "\n",
    "df['content'] = df['content'].apply(lambda x:nltk.word_tokenize(x))"
   ]
  },
  {
   "cell_type": "code",
   "execution_count": 12,
   "id": "b5c0360e",
   "metadata": {
    "execution": {
     "iopub.execute_input": "2023-07-18T16:39:31.779951Z",
     "iopub.status.busy": "2023-07-18T16:39:31.778872Z",
     "iopub.status.idle": "2023-07-18T16:39:31.791524Z",
     "shell.execute_reply": "2023-07-18T16:39:31.790265Z"
    },
    "papermill": {
     "duration": 0.02506,
     "end_time": "2023-07-18T16:39:31.793897",
     "exception": false,
     "start_time": "2023-07-18T16:39:31.768837",
     "status": "completed"
    },
    "tags": []
   },
   "outputs": [
    {
     "data": {
      "text/plain": [
       "0     [ईस्टर्न, बैंक, लिमिटेड, ईबीएल, ने, प्रमुख, अं...\n",
       "9     [नोकिया, ब्रांड, के, स्मार्टफोन, और, टैबलेट, क...\n",
       "13    [कोनल, संगीतकार, चैनल, आज, शाम, मन्ना, डे, स्म...\n",
       "15    [इतालवी, ब्रांड, लोट्टो, का, एक, प्रमुख, आउटले...\n",
       "19    [मैदान, पर, अच्छे, दिन, अब, मोहम्मडन, के, सामन...\n",
       "Name: content, dtype: object"
      ]
     },
     "execution_count": 12,
     "metadata": {},
     "output_type": "execute_result"
    }
   ],
   "source": [
    "df.content.head()"
   ]
  },
  {
   "cell_type": "code",
   "execution_count": 13,
   "id": "dfeb10fb",
   "metadata": {
    "execution": {
     "iopub.execute_input": "2023-07-18T16:39:31.814931Z",
     "iopub.status.busy": "2023-07-18T16:39:31.813512Z",
     "iopub.status.idle": "2023-07-18T16:39:50.987837Z",
     "shell.execute_reply": "2023-07-18T16:39:50.986366Z"
    },
    "papermill": {
     "duration": 19.187283,
     "end_time": "2023-07-18T16:39:50.990385",
     "exception": false,
     "start_time": "2023-07-18T16:39:31.803102",
     "status": "completed"
    },
    "tags": []
   },
   "outputs": [
    {
     "name": "stdout",
     "output_type": "stream",
     "text": [
      "Collecting advertools\r\n",
      "  Downloading advertools-0.13.3-py2.py3-none-any.whl (309 kB)\r\n",
      "\u001b[2K     \u001b[90m━━━━━━━━━━━━━━━━━━━━━━━━━━━━━━━━━━━━━━━\u001b[0m \u001b[32m310.0/310.0 kB\u001b[0m \u001b[31m5.9 MB/s\u001b[0m eta \u001b[36m0:00:00\u001b[0m\r\n",
      "\u001b[?25hRequirement already satisfied: pandas>=1.1.0 in /opt/conda/lib/python3.10/site-packages (from advertools) (1.5.3)\r\n",
      "Requirement already satisfied: pyasn1>=0.4 in /opt/conda/lib/python3.10/site-packages (from advertools) (0.4.8)\r\n",
      "Collecting scrapy>=2.5.0 (from advertools)\r\n",
      "  Downloading Scrapy-2.9.0-py2.py3-none-any.whl (277 kB)\r\n",
      "\u001b[2K     \u001b[90m━━━━━━━━━━━━━━━━━━━━━━━━━━━━━━━━━━━━━━\u001b[0m \u001b[32m277.2/277.2 kB\u001b[0m \u001b[31m18.3 MB/s\u001b[0m eta \u001b[36m0:00:00\u001b[0m\r\n",
      "\u001b[?25hCollecting twython>=3.8.0 (from advertools)\r\n",
      "  Downloading twython-3.9.1-py3-none-any.whl (33 kB)\r\n",
      "Requirement already satisfied: pyarrow>=5.0.0 in /opt/conda/lib/python3.10/site-packages (from advertools) (9.0.0)\r\n",
      "Requirement already satisfied: python-dateutil>=2.8.1 in /opt/conda/lib/python3.10/site-packages (from pandas>=1.1.0->advertools) (2.8.2)\r\n",
      "Requirement already satisfied: pytz>=2020.1 in /opt/conda/lib/python3.10/site-packages (from pandas>=1.1.0->advertools) (2023.3)\r\n",
      "Requirement already satisfied: numpy>=1.21.0 in /opt/conda/lib/python3.10/site-packages (from pandas>=1.1.0->advertools) (1.23.5)\r\n",
      "Collecting Twisted>=18.9.0 (from scrapy>=2.5.0->advertools)\r\n",
      "  Downloading Twisted-22.10.0-py3-none-any.whl (3.1 MB)\r\n",
      "\u001b[2K     \u001b[90m━━━━━━━━━━━━━━━━━━━━━━━━━━━━━━━━━━━━━━━━\u001b[0m \u001b[32m3.1/3.1 MB\u001b[0m \u001b[31m40.4 MB/s\u001b[0m eta \u001b[36m0:00:00\u001b[0m\r\n",
      "\u001b[?25hRequirement already satisfied: cryptography>=3.4.6 in /opt/conda/lib/python3.10/site-packages (from scrapy>=2.5.0->advertools) (40.0.2)\r\n",
      "Collecting cssselect>=0.9.1 (from scrapy>=2.5.0->advertools)\r\n",
      "  Downloading cssselect-1.2.0-py2.py3-none-any.whl (18 kB)\r\n",
      "Collecting itemloaders>=1.0.1 (from scrapy>=2.5.0->advertools)\r\n",
      "  Downloading itemloaders-1.1.0-py3-none-any.whl (11 kB)\r\n",
      "Collecting parsel>=1.5.0 (from scrapy>=2.5.0->advertools)\r\n",
      "  Downloading parsel-1.8.1-py2.py3-none-any.whl (17 kB)\r\n",
      "Requirement already satisfied: pyOpenSSL>=21.0.0 in /opt/conda/lib/python3.10/site-packages (from scrapy>=2.5.0->advertools) (23.1.1)\r\n",
      "Collecting queuelib>=1.4.2 (from scrapy>=2.5.0->advertools)\r\n",
      "  Downloading queuelib-1.6.2-py2.py3-none-any.whl (13 kB)\r\n",
      "Collecting service-identity>=18.1.0 (from scrapy>=2.5.0->advertools)\r\n",
      "  Downloading service_identity-23.1.0-py3-none-any.whl (12 kB)\r\n",
      "Collecting w3lib>=1.17.0 (from scrapy>=2.5.0->advertools)\r\n",
      "  Downloading w3lib-2.1.1-py3-none-any.whl (21 kB)\r\n",
      "Collecting zope.interface>=5.1.0 (from scrapy>=2.5.0->advertools)\r\n",
      "  Downloading zope.interface-6.0-cp310-cp310-manylinux_2_5_x86_64.manylinux1_x86_64.manylinux_2_17_x86_64.manylinux2014_x86_64.whl (246 kB)\r\n",
      "\u001b[2K     \u001b[90m━━━━━━━━━━━━━━━━━━━━━━━━━━━━━━━━━━━━━━\u001b[0m \u001b[32m247.0/247.0 kB\u001b[0m \u001b[31m16.8 MB/s\u001b[0m eta \u001b[36m0:00:00\u001b[0m\r\n",
      "\u001b[?25hCollecting protego>=0.1.15 (from scrapy>=2.5.0->advertools)\r\n",
      "  Downloading Protego-0.2.1-py2.py3-none-any.whl (8.2 kB)\r\n",
      "Collecting itemadapter>=0.1.0 (from scrapy>=2.5.0->advertools)\r\n",
      "  Downloading itemadapter-0.8.0-py3-none-any.whl (11 kB)\r\n",
      "Requirement already satisfied: setuptools in /opt/conda/lib/python3.10/site-packages (from scrapy>=2.5.0->advertools) (59.8.0)\r\n",
      "Requirement already satisfied: packaging in /opt/conda/lib/python3.10/site-packages (from scrapy>=2.5.0->advertools) (21.3)\r\n",
      "Collecting tldextract (from scrapy>=2.5.0->advertools)\r\n",
      "  Downloading tldextract-3.4.4-py3-none-any.whl (93 kB)\r\n",
      "\u001b[2K     \u001b[90m━━━━━━━━━━━━━━━━━━━━━━━━━━━━━━━━━━━━━━━━\u001b[0m \u001b[32m93.3/93.3 kB\u001b[0m \u001b[31m3.5 MB/s\u001b[0m eta \u001b[36m0:00:00\u001b[0m\r\n",
      "\u001b[?25hRequirement already satisfied: lxml>=4.3.0 in /opt/conda/lib/python3.10/site-packages (from scrapy>=2.5.0->advertools) (4.9.2)\r\n",
      "Collecting PyDispatcher>=2.0.5 (from scrapy>=2.5.0->advertools)\r\n",
      "  Downloading PyDispatcher-2.0.7-py3-none-any.whl (12 kB)\r\n",
      "Requirement already satisfied: requests>=2.1.0 in /opt/conda/lib/python3.10/site-packages (from twython>=3.8.0->advertools) (2.28.2)\r\n",
      "Requirement already satisfied: requests-oauthlib>=0.4.0 in /opt/conda/lib/python3.10/site-packages (from twython>=3.8.0->advertools) (1.3.1)\r\n",
      "Requirement already satisfied: cffi>=1.12 in /opt/conda/lib/python3.10/site-packages (from cryptography>=3.4.6->scrapy>=2.5.0->advertools) (1.15.1)\r\n",
      "Requirement already satisfied: jmespath>=0.9.5 in /opt/conda/lib/python3.10/site-packages (from itemloaders>=1.0.1->scrapy>=2.5.0->advertools) (1.0.1)\r\n",
      "Requirement already satisfied: six in /opt/conda/lib/python3.10/site-packages (from protego>=0.1.15->scrapy>=2.5.0->advertools) (1.16.0)\r\n",
      "Requirement already satisfied: charset-normalizer<4,>=2 in /opt/conda/lib/python3.10/site-packages (from requests>=2.1.0->twython>=3.8.0->advertools) (2.1.1)\r\n",
      "Requirement already satisfied: idna<4,>=2.5 in /opt/conda/lib/python3.10/site-packages (from requests>=2.1.0->twython>=3.8.0->advertools) (3.4)\r\n",
      "Requirement already satisfied: urllib3<1.27,>=1.21.1 in /opt/conda/lib/python3.10/site-packages (from requests>=2.1.0->twython>=3.8.0->advertools) (1.26.15)\r\n",
      "Requirement already satisfied: certifi>=2017.4.17 in /opt/conda/lib/python3.10/site-packages (from requests>=2.1.0->twython>=3.8.0->advertools) (2023.5.7)\r\n",
      "Requirement already satisfied: oauthlib>=3.0.0 in /opt/conda/lib/python3.10/site-packages (from requests-oauthlib>=0.4.0->twython>=3.8.0->advertools) (3.2.2)\r\n",
      "Requirement already satisfied: attrs>=19.1.0 in /opt/conda/lib/python3.10/site-packages (from service-identity>=18.1.0->scrapy>=2.5.0->advertools) (23.1.0)\r\n",
      "Requirement already satisfied: pyasn1-modules in /opt/conda/lib/python3.10/site-packages (from service-identity>=18.1.0->scrapy>=2.5.0->advertools) (0.2.7)\r\n",
      "Collecting constantly>=15.1 (from Twisted>=18.9.0->scrapy>=2.5.0->advertools)\r\n",
      "  Downloading constantly-15.1.0-py2.py3-none-any.whl (7.9 kB)\r\n",
      "Collecting incremental>=21.3.0 (from Twisted>=18.9.0->scrapy>=2.5.0->advertools)\r\n",
      "  Downloading incremental-22.10.0-py2.py3-none-any.whl (16 kB)\r\n",
      "Collecting Automat>=0.8.0 (from Twisted>=18.9.0->scrapy>=2.5.0->advertools)\r\n",
      "  Downloading Automat-22.10.0-py2.py3-none-any.whl (26 kB)\r\n",
      "Collecting hyperlink>=17.1.1 (from Twisted>=18.9.0->scrapy>=2.5.0->advertools)\r\n",
      "  Downloading hyperlink-21.0.0-py2.py3-none-any.whl (74 kB)\r\n",
      "\u001b[2K     \u001b[90m━━━━━━━━━━━━━━━━━━━━━━━━━━━━━━━━━━━━━━━━\u001b[0m \u001b[32m74.6/74.6 kB\u001b[0m \u001b[31m5.2 MB/s\u001b[0m eta \u001b[36m0:00:00\u001b[0m\r\n",
      "\u001b[?25hRequirement already satisfied: typing-extensions>=3.6.5 in /opt/conda/lib/python3.10/site-packages (from Twisted>=18.9.0->scrapy>=2.5.0->advertools) (4.5.0)\r\n",
      "Requirement already satisfied: pyparsing!=3.0.5,>=2.0.2 in /opt/conda/lib/python3.10/site-packages (from packaging->scrapy>=2.5.0->advertools) (3.0.9)\r\n",
      "Collecting requests-file>=1.4 (from tldextract->scrapy>=2.5.0->advertools)\r\n",
      "  Downloading requests_file-1.5.1-py2.py3-none-any.whl (3.7 kB)\r\n",
      "Requirement already satisfied: filelock>=3.0.8 in /opt/conda/lib/python3.10/site-packages (from tldextract->scrapy>=2.5.0->advertools) (3.12.0)\r\n",
      "Requirement already satisfied: pycparser in /opt/conda/lib/python3.10/site-packages (from cffi>=1.12->cryptography>=3.4.6->scrapy>=2.5.0->advertools) (2.21)\r\n",
      "Installing collected packages: PyDispatcher, incremental, constantly, zope.interface, w3lib, queuelib, protego, itemadapter, hyperlink, cssselect, Automat, Twisted, requests-file, parsel, twython, tldextract, service-identity, itemloaders, scrapy, advertools\r\n",
      "Successfully installed Automat-22.10.0 PyDispatcher-2.0.7 Twisted-22.10.0 advertools-0.13.3 constantly-15.1.0 cssselect-1.2.0 hyperlink-21.0.0 incremental-22.10.0 itemadapter-0.8.0 itemloaders-1.1.0 parsel-1.8.1 protego-0.2.1 queuelib-1.6.2 requests-file-1.5.1 scrapy-2.9.0 service-identity-23.1.0 tldextract-3.4.4 twython-3.9.1 w3lib-2.1.1 zope.interface-6.0\r\n",
      "\u001b[33mWARNING: Running pip as the 'root' user can result in broken permissions and conflicting behaviour with the system package manager. It is recommended to use a virtual environment instead: https://pip.pypa.io/warnings/venv\u001b[0m\u001b[33m\r\n",
      "\u001b[0m"
     ]
    }
   ],
   "source": [
    "!pip install advertools"
   ]
  },
  {
   "cell_type": "code",
   "execution_count": 14,
   "id": "198fdc01",
   "metadata": {
    "execution": {
     "iopub.execute_input": "2023-07-18T16:39:51.015503Z",
     "iopub.status.busy": "2023-07-18T16:39:51.015082Z",
     "iopub.status.idle": "2023-07-18T16:39:52.281293Z",
     "shell.execute_reply": "2023-07-18T16:39:52.279960Z"
    },
    "papermill": {
     "duration": 1.281743,
     "end_time": "2023-07-18T16:39:52.284043",
     "exception": false,
     "start_time": "2023-07-18T16:39:51.002300",
     "status": "completed"
    },
    "tags": []
   },
   "outputs": [
    {
     "data": {
      "text/plain": [
       "dict_keys(['arabic', 'azerbaijani', 'bengali', 'catalan', 'chinese', 'croatian', 'danish', 'dutch', 'english', 'finnish', 'french', 'german', 'greek', 'hebrew', 'hindi', 'hungarian', 'indonesian', 'irish', 'italian', 'japanese', 'kazakh', 'nepali', 'norwegian', 'persian', 'polish', 'portuguese', 'romanian', 'russian', 'sinhala', 'spanish', 'swedish', 'tagalog', 'tamil', 'tatar', 'telugu', 'thai', 'turkish', 'ukrainian', 'urdu', 'vietnamese'])"
      ]
     },
     "execution_count": 14,
     "metadata": {},
     "output_type": "execute_result"
    }
   ],
   "source": [
    "import advertools as adv\n",
    "adv.stopwords.keys()"
   ]
  },
  {
   "cell_type": "code",
   "execution_count": 15,
   "id": "6549919e",
   "metadata": {
    "execution": {
     "iopub.execute_input": "2023-07-18T16:39:52.311858Z",
     "iopub.status.busy": "2023-07-18T16:39:52.310845Z",
     "iopub.status.idle": "2023-07-18T16:39:52.317848Z",
     "shell.execute_reply": "2023-07-18T16:39:52.316384Z"
    },
    "papermill": {
     "duration": 0.023704,
     "end_time": "2023-07-18T16:39:52.320467",
     "exception": false,
     "start_time": "2023-07-18T16:39:52.296763",
     "status": "completed"
    },
    "tags": []
   },
   "outputs": [],
   "source": [
    "stop_words=sorted(adv.stopwords['hindi'])"
   ]
  },
  {
   "cell_type": "code",
   "execution_count": 16,
   "id": "c00d9781",
   "metadata": {
    "execution": {
     "iopub.execute_input": "2023-07-18T16:39:52.346086Z",
     "iopub.status.busy": "2023-07-18T16:39:52.345233Z",
     "iopub.status.idle": "2023-07-18T16:39:53.874175Z",
     "shell.execute_reply": "2023-07-18T16:39:53.873018Z"
    },
    "papermill": {
     "duration": 1.544415,
     "end_time": "2023-07-18T16:39:53.876728",
     "exception": false,
     "start_time": "2023-07-18T16:39:52.332313",
     "status": "completed"
    },
    "tags": []
   },
   "outputs": [
    {
     "data": {
      "text/plain": [
       "0     [ईस्टर्न, बैंक, लिमिटेड, ईबीएल, प्रमुख, अंतररा...\n",
       "9     [नोकिया, ब्रांड, स्मार्टफोन, टैबलेट, कंप्यूटर,...\n",
       "13    [कोनल, संगीतकार, चैनल, आज, शाम, मन्ना, डे, स्म...\n",
       "15    [इतालवी, ब्रांड, लोट्टो, प्रमुख, आउटलेट, बिक्र...\n",
       "19    [मैदान, अच्छे, दिन, अब, मोहम्मडन, सामने, कालेब...\n",
       "Name: content, dtype: object"
      ]
     },
     "execution_count": 16,
     "metadata": {},
     "output_type": "execute_result"
    }
   ],
   "source": [
    "def remove_stopwords(text):\n",
    "  words = [w for w in text if w not in set(stop_words)]\n",
    "  return words\n",
    "\n",
    "df['content']=df['content'].apply(lambda x:remove_stopwords(x))\n",
    "\n",
    "\n",
    "df.content.head()"
   ]
  },
  {
   "cell_type": "code",
   "execution_count": 17,
   "id": "51b2c819",
   "metadata": {
    "execution": {
     "iopub.execute_input": "2023-07-18T16:39:53.901889Z",
     "iopub.status.busy": "2023-07-18T16:39:53.901377Z",
     "iopub.status.idle": "2023-07-18T16:39:53.909189Z",
     "shell.execute_reply": "2023-07-18T16:39:53.908013Z"
    },
    "papermill": {
     "duration": 0.023494,
     "end_time": "2023-07-18T16:39:53.911610",
     "exception": false,
     "start_time": "2023-07-18T16:39:53.888116",
     "status": "completed"
    },
    "tags": []
   },
   "outputs": [
    {
     "data": {
      "text/plain": [
       "list"
      ]
     },
     "execution_count": 17,
     "metadata": {},
     "output_type": "execute_result"
    }
   ],
   "source": [
    "type(df.content[0])"
   ]
  },
  {
   "cell_type": "code",
   "execution_count": 18,
   "id": "fed453af",
   "metadata": {
    "execution": {
     "iopub.execute_input": "2023-07-18T16:39:53.937364Z",
     "iopub.status.busy": "2023-07-18T16:39:53.936943Z",
     "iopub.status.idle": "2023-07-18T16:39:53.955263Z",
     "shell.execute_reply": "2023-07-18T16:39:53.953974Z"
    },
    "papermill": {
     "duration": 0.033986,
     "end_time": "2023-07-18T16:39:53.957660",
     "exception": false,
     "start_time": "2023-07-18T16:39:53.923674",
     "status": "completed"
    },
    "tags": []
   },
   "outputs": [],
   "source": [
    "def List(text):\n",
    "    mod_text = \" \".join(text)\n",
    "    return mod_text\n",
    "\n",
    "df['content'] = df['content'].apply(lambda x:List(x))"
   ]
  },
  {
   "cell_type": "code",
   "execution_count": 19,
   "id": "8be6b013",
   "metadata": {
    "execution": {
     "iopub.execute_input": "2023-07-18T16:39:53.984346Z",
     "iopub.status.busy": "2023-07-18T16:39:53.983599Z",
     "iopub.status.idle": "2023-07-18T16:39:53.991067Z",
     "shell.execute_reply": "2023-07-18T16:39:53.989922Z"
    },
    "papermill": {
     "duration": 0.023361,
     "end_time": "2023-07-18T16:39:53.993268",
     "exception": false,
     "start_time": "2023-07-18T16:39:53.969907",
     "status": "completed"
    },
    "tags": []
   },
   "outputs": [
    {
     "data": {
      "text/plain": [
       "0     ईस्टर्न बैंक लिमिटेड ईबीएल प्रमुख अंतरराष्ट्री...\n",
       "9     नोकिया ब्रांड स्मार्टफोन टैबलेट कंप्यूटर मॉडल ...\n",
       "13    कोनल संगीतकार चैनल आज शाम मन्ना डे स्मृति कार्...\n",
       "15    इतालवी ब्रांड लोट्टो प्रमुख आउटलेट बिक्री केंद...\n",
       "19    मैदान अच्छे दिन अब मोहम्मडन सामने कालेबड्रेई आ...\n",
       "Name: content, dtype: object"
      ]
     },
     "execution_count": 19,
     "metadata": {},
     "output_type": "execute_result"
    }
   ],
   "source": [
    "df.content.head()"
   ]
  },
  {
   "cell_type": "code",
   "execution_count": 20,
   "id": "90ca83ef",
   "metadata": {
    "execution": {
     "iopub.execute_input": "2023-07-18T16:39:54.020654Z",
     "iopub.status.busy": "2023-07-18T16:39:54.020183Z",
     "iopub.status.idle": "2023-07-18T16:39:54.166596Z",
     "shell.execute_reply": "2023-07-18T16:39:54.165228Z"
    },
    "papermill": {
     "duration": 0.16318,
     "end_time": "2023-07-18T16:39:54.169368",
     "exception": false,
     "start_time": "2023-07-18T16:39:54.006188",
     "status": "completed"
    },
    "tags": []
   },
   "outputs": [],
   "source": [
    "corpus = []\n",
    "corpus = df['content']\n",
    "from sklearn.feature_extraction.text import CountVectorizer\n",
    "cv = CountVectorizer(max_features = 1200,lowercase=False)\n",
    "X = cv.fit_transform(corpus).toarray()\n",
    "y = df.category.values\n"
   ]
  },
  {
   "cell_type": "code",
   "execution_count": 21,
   "id": "8d296578",
   "metadata": {
    "execution": {
     "iopub.execute_input": "2023-07-18T16:39:54.196182Z",
     "iopub.status.busy": "2023-07-18T16:39:54.195726Z",
     "iopub.status.idle": "2023-07-18T16:39:54.208987Z",
     "shell.execute_reply": "2023-07-18T16:39:54.207686Z"
    },
    "papermill": {
     "duration": 0.030094,
     "end_time": "2023-07-18T16:39:54.211713",
     "exception": false,
     "start_time": "2023-07-18T16:39:54.181619",
     "status": "completed"
    },
    "tags": []
   },
   "outputs": [],
   "source": [
    "from sklearn.model_selection import train_test_split\n",
    "X_train,X_test,y_train,y_test = train_test_split(X,y,test_size=0.2,random_state=0)"
   ]
  },
  {
   "cell_type": "code",
   "execution_count": 22,
   "id": "54398e34",
   "metadata": {
    "execution": {
     "iopub.execute_input": "2023-07-18T16:39:54.240356Z",
     "iopub.status.busy": "2023-07-18T16:39:54.239349Z",
     "iopub.status.idle": "2023-07-18T16:39:54.294762Z",
     "shell.execute_reply": "2023-07-18T16:39:54.293279Z"
    },
    "papermill": {
     "duration": 0.072795,
     "end_time": "2023-07-18T16:39:54.297527",
     "exception": false,
     "start_time": "2023-07-18T16:39:54.224732",
     "status": "completed"
    },
    "tags": []
   },
   "outputs": [
    {
     "data": {
      "text/html": [
       "<style>#sk-container-id-1 {color: black;background-color: white;}#sk-container-id-1 pre{padding: 0;}#sk-container-id-1 div.sk-toggleable {background-color: white;}#sk-container-id-1 label.sk-toggleable__label {cursor: pointer;display: block;width: 100%;margin-bottom: 0;padding: 0.3em;box-sizing: border-box;text-align: center;}#sk-container-id-1 label.sk-toggleable__label-arrow:before {content: \"▸\";float: left;margin-right: 0.25em;color: #696969;}#sk-container-id-1 label.sk-toggleable__label-arrow:hover:before {color: black;}#sk-container-id-1 div.sk-estimator:hover label.sk-toggleable__label-arrow:before {color: black;}#sk-container-id-1 div.sk-toggleable__content {max-height: 0;max-width: 0;overflow: hidden;text-align: left;background-color: #f0f8ff;}#sk-container-id-1 div.sk-toggleable__content pre {margin: 0.2em;color: black;border-radius: 0.25em;background-color: #f0f8ff;}#sk-container-id-1 input.sk-toggleable__control:checked~div.sk-toggleable__content {max-height: 200px;max-width: 100%;overflow: auto;}#sk-container-id-1 input.sk-toggleable__control:checked~label.sk-toggleable__label-arrow:before {content: \"▾\";}#sk-container-id-1 div.sk-estimator input.sk-toggleable__control:checked~label.sk-toggleable__label {background-color: #d4ebff;}#sk-container-id-1 div.sk-label input.sk-toggleable__control:checked~label.sk-toggleable__label {background-color: #d4ebff;}#sk-container-id-1 input.sk-hidden--visually {border: 0;clip: rect(1px 1px 1px 1px);clip: rect(1px, 1px, 1px, 1px);height: 1px;margin: -1px;overflow: hidden;padding: 0;position: absolute;width: 1px;}#sk-container-id-1 div.sk-estimator {font-family: monospace;background-color: #f0f8ff;border: 1px dotted black;border-radius: 0.25em;box-sizing: border-box;margin-bottom: 0.5em;}#sk-container-id-1 div.sk-estimator:hover {background-color: #d4ebff;}#sk-container-id-1 div.sk-parallel-item::after {content: \"\";width: 100%;border-bottom: 1px solid gray;flex-grow: 1;}#sk-container-id-1 div.sk-label:hover label.sk-toggleable__label {background-color: #d4ebff;}#sk-container-id-1 div.sk-serial::before {content: \"\";position: absolute;border-left: 1px solid gray;box-sizing: border-box;top: 0;bottom: 0;left: 50%;z-index: 0;}#sk-container-id-1 div.sk-serial {display: flex;flex-direction: column;align-items: center;background-color: white;padding-right: 0.2em;padding-left: 0.2em;position: relative;}#sk-container-id-1 div.sk-item {position: relative;z-index: 1;}#sk-container-id-1 div.sk-parallel {display: flex;align-items: stretch;justify-content: center;background-color: white;position: relative;}#sk-container-id-1 div.sk-item::before, #sk-container-id-1 div.sk-parallel-item::before {content: \"\";position: absolute;border-left: 1px solid gray;box-sizing: border-box;top: 0;bottom: 0;left: 50%;z-index: -1;}#sk-container-id-1 div.sk-parallel-item {display: flex;flex-direction: column;z-index: 1;position: relative;background-color: white;}#sk-container-id-1 div.sk-parallel-item:first-child::after {align-self: flex-end;width: 50%;}#sk-container-id-1 div.sk-parallel-item:last-child::after {align-self: flex-start;width: 50%;}#sk-container-id-1 div.sk-parallel-item:only-child::after {width: 0;}#sk-container-id-1 div.sk-dashed-wrapped {border: 1px dashed gray;margin: 0 0.4em 0.5em 0.4em;box-sizing: border-box;padding-bottom: 0.4em;background-color: white;}#sk-container-id-1 div.sk-label label {font-family: monospace;font-weight: bold;display: inline-block;line-height: 1.2em;}#sk-container-id-1 div.sk-label-container {text-align: center;}#sk-container-id-1 div.sk-container {/* jupyter's `normalize.less` sets `[hidden] { display: none; }` but bootstrap.min.css set `[hidden] { display: none !important; }` so we also need the `!important` here to be able to override the default hidden behavior on the sphinx rendered scikit-learn.org. See: https://github.com/scikit-learn/scikit-learn/issues/21755 */display: inline-block !important;position: relative;}#sk-container-id-1 div.sk-text-repr-fallback {display: none;}</style><div id=\"sk-container-id-1\" class=\"sk-top-container\"><div class=\"sk-text-repr-fallback\"><pre>GaussianNB()</pre><b>In a Jupyter environment, please rerun this cell to show the HTML representation or trust the notebook. <br />On GitHub, the HTML representation is unable to render, please try loading this page with nbviewer.org.</b></div><div class=\"sk-container\" hidden><div class=\"sk-item\"><div class=\"sk-estimator sk-toggleable\"><input class=\"sk-toggleable__control sk-hidden--visually\" id=\"sk-estimator-id-1\" type=\"checkbox\" checked><label for=\"sk-estimator-id-1\" class=\"sk-toggleable__label sk-toggleable__label-arrow\">GaussianNB</label><div class=\"sk-toggleable__content\"><pre>GaussianNB()</pre></div></div></div></div></div>"
      ],
      "text/plain": [
       "GaussianNB()"
      ]
     },
     "execution_count": 22,
     "metadata": {},
     "output_type": "execute_result"
    }
   ],
   "source": [
    "# training the Naive Bayes Classification model to the training dataset\n",
    "from sklearn.naive_bayes import GaussianNB\n",
    "classifier = GaussianNB()\n",
    "classifier.fit(X_train,y_train)"
   ]
  },
  {
   "cell_type": "code",
   "execution_count": 23,
   "id": "3aef14bc",
   "metadata": {
    "execution": {
     "iopub.execute_input": "2023-07-18T16:39:54.325970Z",
     "iopub.status.busy": "2023-07-18T16:39:54.325364Z",
     "iopub.status.idle": "2023-07-18T16:39:54.351547Z",
     "shell.execute_reply": "2023-07-18T16:39:54.349976Z"
    },
    "papermill": {
     "duration": 0.043982,
     "end_time": "2023-07-18T16:39:54.354447",
     "exception": false,
     "start_time": "2023-07-18T16:39:54.310465",
     "status": "completed"
    },
    "tags": []
   },
   "outputs": [],
   "source": [
    "# predicting the values classified by the following model\n",
    "y_pred = classifier.predict(X_test)"
   ]
  },
  {
   "cell_type": "code",
   "execution_count": 24,
   "id": "4640f132",
   "metadata": {
    "execution": {
     "iopub.execute_input": "2023-07-18T16:39:54.382446Z",
     "iopub.status.busy": "2023-07-18T16:39:54.381992Z",
     "iopub.status.idle": "2023-07-18T16:39:54.394398Z",
     "shell.execute_reply": "2023-07-18T16:39:54.392582Z"
    },
    "papermill": {
     "duration": 0.02953,
     "end_time": "2023-07-18T16:39:54.397052",
     "exception": false,
     "start_time": "2023-07-18T16:39:54.367522",
     "status": "completed"
    },
    "tags": []
   },
   "outputs": [
    {
     "name": "stdout",
     "output_type": "stream",
     "text": [
      "Accuracy: 0.6106194690265486\n",
      "Confusion Matrix:\n",
      " [[69  6  7  1  2  0  2]\n",
      " [ 1 12  5  0  1  0  0]\n",
      " [12  2 35  2  3  0  1]\n",
      " [ 3  5  2 15  1  0  1]\n",
      " [ 3  0  4  0  2  0  0]\n",
      " [ 6  1  7  0  0  4  1]\n",
      " [ 5  1  2  0  0  1  1]]\n"
     ]
    }
   ],
   "source": [
    "from sklearn.metrics import accuracy_score, precision_score, recall_score, f1_score, roc_auc_score, confusion_matrix\n",
    "\n",
    "# Calculate accuracy\n",
    "accuracy = accuracy_score(y_test, y_pred)\n",
    "print(\"Accuracy:\", accuracy)\n",
    "\n",
    "# Calculate confusion matrix\n",
    "confusion_mat = confusion_matrix(y_test, y_pred)\n",
    "print(\"Confusion Matrix:\\n\", confusion_mat)"
   ]
  },
  {
   "cell_type": "code",
   "execution_count": 25,
   "id": "141b46f1",
   "metadata": {
    "execution": {
     "iopub.execute_input": "2023-07-18T16:39:54.426730Z",
     "iopub.status.busy": "2023-07-18T16:39:54.426336Z",
     "iopub.status.idle": "2023-07-18T16:39:54.480322Z",
     "shell.execute_reply": "2023-07-18T16:39:54.479003Z"
    },
    "papermill": {
     "duration": 0.071622,
     "end_time": "2023-07-18T16:39:54.483329",
     "exception": false,
     "start_time": "2023-07-18T16:39:54.411707",
     "status": "completed"
    },
    "tags": []
   },
   "outputs": [
    {
     "data": {
      "text/html": [
       "<div>\n",
       "<style scoped>\n",
       "    .dataframe tbody tr th:only-of-type {\n",
       "        vertical-align: middle;\n",
       "    }\n",
       "\n",
       "    .dataframe tbody tr th {\n",
       "        vertical-align: top;\n",
       "    }\n",
       "\n",
       "    .dataframe thead th {\n",
       "        text-align: right;\n",
       "    }\n",
       "</style>\n",
       "<table border=\"1\" class=\"dataframe\">\n",
       "  <thead>\n",
       "    <tr style=\"text-align: right;\">\n",
       "      <th></th>\n",
       "      <th>Text</th>\n",
       "    </tr>\n",
       "  </thead>\n",
       "  <tbody>\n",
       "    <tr>\n",
       "      <th>0</th>\n",
       "      <td>संजय ने कहा, \"तब, हे राजन, युद्ध में अजेय महाब...</td>\n",
       "    </tr>\n",
       "    <tr>\n",
       "      <th>1</th>\n",
       "      <td>\"भीष्म ने कहा, 'वहां ऋषिगण, पितरों और देवताओं ...</td>\n",
       "    </tr>\n",
       "    <tr>\n",
       "      <th>2</th>\n",
       "      <td>Sanjaya said,--\"Beholding Dhananjaya then to t...</td>\n",
       "    </tr>\n",
       "    <tr>\n",
       "      <th>3</th>\n",
       "      <td>धृतराष्ट्र ने कहा, 'हे महान बुद्धिमान, मुझे बत...</td>\n",
       "    </tr>\n",
       "    <tr>\n",
       "      <th>4</th>\n",
       "      <td>युधिष्ठिर ने कहा, 'हे महाबाहो, मुझे बताओ कि इस...</td>\n",
       "    </tr>\n",
       "  </tbody>\n",
       "</table>\n",
       "</div>"
      ],
      "text/plain": [
       "                                                Text\n",
       "0  संजय ने कहा, \"तब, हे राजन, युद्ध में अजेय महाब...\n",
       "1  \"भीष्म ने कहा, 'वहां ऋषिगण, पितरों और देवताओं ...\n",
       "2  Sanjaya said,--\"Beholding Dhananjaya then to t...\n",
       "3  धृतराष्ट्र ने कहा, 'हे महान बुद्धिमान, मुझे बत...\n",
       "4  युधिष्ठिर ने कहा, 'हे महाबाहो, मुझे बताओ कि इस..."
      ]
     },
     "execution_count": 25,
     "metadata": {},
     "output_type": "execute_result"
    }
   ],
   "source": [
    "data = pd.read_csv(\"/kaggle/input/binku-man-1/hindi_train_sample_final.csv\")\n",
    "data.head()"
   ]
  },
  {
   "cell_type": "code",
   "execution_count": 26,
   "id": "7778689f",
   "metadata": {
    "execution": {
     "iopub.execute_input": "2023-07-18T16:39:54.512406Z",
     "iopub.status.busy": "2023-07-18T16:39:54.511981Z",
     "iopub.status.idle": "2023-07-18T16:39:55.823312Z",
     "shell.execute_reply": "2023-07-18T16:39:55.822239Z"
    },
    "papermill": {
     "duration": 1.328868,
     "end_time": "2023-07-18T16:39:55.825880",
     "exception": false,
     "start_time": "2023-07-18T16:39:54.497012",
     "status": "completed"
    },
    "tags": []
   },
   "outputs": [
    {
     "name": "stderr",
     "output_type": "stream",
     "text": [
      "/tmp/ipykernel_20/3693976742.py:1: FutureWarning: The default value of regex will change from True to False in a future version.\n",
      "  data.Text = data.Text.str.replace('\\d+',' ')\n"
     ]
    }
   ],
   "source": [
    "data.Text = data.Text.str.replace('\\d+',' ')\n",
    "data['Text']=data['Text'].apply(lambda x: remove_punct(x))\n",
    "data['Text']=data['Text'].apply(lambda x: nltk.word_tokenize(x))\n",
    "data['Text']=data['Text'].apply(lambda x:remove_stopwords(x))\n",
    "data['Text']=data['Text'].apply(lambda x:List(x))\n",
    "\n",
    "corpus_1=[]\n",
    "corpus_1=data['Text']\n",
    "\n",
    "Test_t = cv.fit_transform(corpus_1).toarray()"
   ]
  },
  {
   "cell_type": "code",
   "execution_count": 27,
   "id": "5b3d8f28",
   "metadata": {
    "execution": {
     "iopub.execute_input": "2023-07-18T16:39:55.854928Z",
     "iopub.status.busy": "2023-07-18T16:39:55.853815Z",
     "iopub.status.idle": "2023-07-18T16:39:55.874508Z",
     "shell.execute_reply": "2023-07-18T16:39:55.873000Z"
    },
    "papermill": {
     "duration": 0.036847,
     "end_time": "2023-07-18T16:39:55.877170",
     "exception": false,
     "start_time": "2023-07-18T16:39:55.840323",
     "status": "completed"
    },
    "tags": []
   },
   "outputs": [
    {
     "name": "stdout",
     "output_type": "stream",
     "text": [
      "[1 3 3 1 1 1 3 1 3 1 1 1 1 1 1 3 3 1 1 1 1 1 3 1 1 1 1 1 1 1 3 1 1 1 1 4 1\n",
      " 1 1 1 1 3 1 1 1 7 1 1 1 1 1 1 5 1 1 1 1 1 1 3 1 1 3 1 1 1 1 1 1 1 1 1 1 1\n",
      " 1 1 3 1 1 1 1 3 1 1 1 1 1 3 3 1 1 1 3 1 1 4 1 1 1 1]\n"
     ]
    }
   ],
   "source": [
    "y_pred_hindi = classifier.predict(Test_t)\n",
    "\n",
    "print(y_pred_hindi)\n",
    "\n",
    "Y_hindi = pd.DataFrame(y_pred_hindi)\n",
    "\n",
    "Y_hindi.to_csv('y_pred_hindi_1.csv',index=False)"
   ]
  },
  {
   "cell_type": "code",
   "execution_count": null,
   "id": "0aa12fd6",
   "metadata": {
    "papermill": {
     "duration": 0.013186,
     "end_time": "2023-07-18T16:39:55.903063",
     "exception": false,
     "start_time": "2023-07-18T16:39:55.889877",
     "status": "completed"
    },
    "tags": []
   },
   "outputs": [],
   "source": []
  }
 ],
 "metadata": {
  "kernelspec": {
   "display_name": "Python 3",
   "language": "python",
   "name": "python3"
  },
  "language_info": {
   "codemirror_mode": {
    "name": "ipython",
    "version": 3
   },
   "file_extension": ".py",
   "mimetype": "text/x-python",
   "name": "python",
   "nbconvert_exporter": "python",
   "pygments_lexer": "ipython3",
   "version": "3.10.10"
  },
  "papermill": {
   "default_parameters": {},
   "duration": 59.417299,
   "end_time": "2023-07-18T16:39:58.396779",
   "environment_variables": {},
   "exception": null,
   "input_path": "__notebook__.ipynb",
   "output_path": "__notebook__.ipynb",
   "parameters": {},
   "start_time": "2023-07-18T16:38:58.979480",
   "version": "2.4.0"
  }
 },
 "nbformat": 4,
 "nbformat_minor": 5
}
